{
 "cells": [
  {
   "cell_type": "code",
   "execution_count": 1,
   "metadata": {},
   "outputs": [
    {
     "name": "stdout",
     "output_type": "stream",
     "text": [
      "<class 'pandas.core.frame.DataFrame'>\n",
      "RangeIndex: 599 entries, 0 to 598\n",
      "Data columns (total 10 columns):\n",
      " #   Column                                    Non-Null Count  Dtype  \n",
      "---  ------                                    --------------  -----  \n",
      " 0   User ID                                   599 non-null    object \n",
      " 1   Vehicle Model                             599 non-null    object \n",
      " 2   Battery Capacity (kWh)                    599 non-null    float64\n",
      " 3   Energy Consumed                           568 non-null    float64\n",
      " 4   Charging Duration (hours)                 599 non-null    float64\n",
      " 5   Charging Rate (kW)                        569 non-null    float64\n",
      " 6   Time of Day                               599 non-null    object \n",
      " 7   State of Charge (Start %)                 599 non-null    float64\n",
      " 8   Distance Driven (since last charge) (km)  569 non-null    float64\n",
      " 9   User Type                                 599 non-null    object \n",
      "dtypes: float64(6), object(4)\n",
      "memory usage: 46.9+ KB\n"
     ]
    },
    {
     "data": {
      "text/plain": [
       "(None,\n",
       "   User ID Vehicle Model  Battery Capacity (kWh)  Energy Consumed  \\\n",
       " 0  User_1        BMW i3              108.463007        60.712346   \n",
       " 1  User_2  Hyundai Kona              100.000000        12.339275   \n",
       " 2  User_3    Chevy Bolt               75.000000        19.128876   \n",
       " 3  User_4  Hyundai Kona               50.000000        79.457824   \n",
       " 4  User_5  Hyundai Kona               50.000000        19.629104   \n",
       " \n",
       "    Charging Duration (hours)  Charging Rate (kW) Time of Day  \\\n",
       " 0                   0.591363           36.389181     Evening   \n",
       " 1                   3.133652           30.677735     Morning   \n",
       " 2                   2.452653           27.513593     Morning   \n",
       " 3                   1.266431           32.882870     Evening   \n",
       " 4                   2.019765           10.215712     Morning   \n",
       " \n",
       "    State of Charge (Start %)  Distance Driven (since last charge) (km)  \\\n",
       " 0                  29.371576                                293.602111   \n",
       " 1                  10.115778                                112.112804   \n",
       " 2                   6.854604                                 71.799253   \n",
       " 3                  83.120003                                199.577785   \n",
       " 4                  54.258950                                203.661847   \n",
       " \n",
       "                 User Type  \n",
       " 0                Commuter  \n",
       " 1           Casual Driver  \n",
       " 2                Commuter  \n",
       " 3  Long-Distance Traveler  \n",
       " 4  Long-Distance Traveler  )"
      ]
     },
     "execution_count": 1,
     "metadata": {},
     "output_type": "execute_result"
    }
   ],
   "source": [
    "import pandas as pd\n",
    "\n",
    "# Load the dataset\n",
    "file_path = \"F:\\SEM 6\\Machine Learning\\Dataset\\ev_charging_patterns.csv\"\n",
    "df = pd.read_csv(file_path)\n",
    "\n",
    "# Display basic information and the first few rows\n",
    "df.info(), df.head()\n"
   ]
  },
  {
   "cell_type": "code",
   "execution_count": 2,
   "metadata": {},
   "outputs": [
    {
     "data": {
      "text/plain": [
       "((479, 8), (120, 8), (479,), (120,))"
      ]
     },
     "execution_count": 2,
     "metadata": {},
     "output_type": "execute_result"
    }
   ],
   "source": [
    "from sklearn.model_selection import train_test_split\n",
    "from sklearn.preprocessing import StandardScaler, LabelEncoder\n",
    "from sklearn.impute import SimpleImputer\n",
    "\n",
    "# Drop User ID\n",
    "df = df.drop(columns=['User ID'])\n",
    "\n",
    "# Handle missing values by filling with mean for numerical columns\n",
    "imputer = SimpleImputer(strategy=\"mean\")\n",
    "numerical_cols = df.select_dtypes(include=['float64']).columns\n",
    "df[numerical_cols] = imputer.fit_transform(df[numerical_cols])\n",
    "\n",
    "# Encode categorical features\n",
    "label_encoders = {}\n",
    "for col in ['Vehicle Model', 'Time of Day']:\n",
    "    le = LabelEncoder()\n",
    "    df[col] = le.fit_transform(df[col])\n",
    "    label_encoders[col] = le  # Store encoders for reference\n",
    "\n",
    "# Encode target variable (User Type)\n",
    "target_encoder = LabelEncoder()\n",
    "df['User Type'] = target_encoder.fit_transform(df['User Type'])\n",
    "\n",
    "# Split dataset into features (X) and target (y)\n",
    "X = df.drop(columns=['User Type'])\n",
    "y = df['User Type']\n",
    "\n",
    "# Split into train and test sets (80% train, 20% test)\n",
    "X_train, X_test, y_train, y_test = train_test_split(X, y, test_size=0.2, random_state=42, stratify=y)\n",
    "\n",
    "# Scale numerical features\n",
    "scaler = StandardScaler()\n",
    "X_train = scaler.fit_transform(X_train)\n",
    "X_test = scaler.transform(X_test)\n",
    "\n",
    "# Data is now preprocessed and ready for MLP training. Next step: Train the MLP classifier.\n",
    "X_train.shape, X_test.shape, y_train.shape, y_test.shape\n"
   ]
  },
  {
   "cell_type": "code",
   "execution_count": 3,
   "metadata": {},
   "outputs": [
    {
     "name": "stderr",
     "output_type": "stream",
     "text": [
      "C:\\Users\\HP\\AppData\\Local\\Packages\\PythonSoftwareFoundation.Python.3.11_qbz5n2kfra8p0\\LocalCache\\local-packages\\Python311\\site-packages\\sklearn\\neural_network\\_multilayer_perceptron.py:690: ConvergenceWarning: Stochastic Optimizer: Maximum iterations (500) reached and the optimization hasn't converged yet.\n",
      "  warnings.warn(\n"
     ]
    },
    {
     "data": {
      "text/plain": [
       "(0.35,\n",
       " '                        precision    recall  f1-score   support\\n\\n         Casual Driver       0.34      0.40      0.37        40\\n              Commuter       0.38      0.32      0.35        41\\nLong-Distance Traveler       0.33      0.33      0.33        39\\n\\n              accuracy                           0.35       120\\n             macro avg       0.35      0.35      0.35       120\\n          weighted avg       0.35      0.35      0.35       120\\n')"
      ]
     },
     "execution_count": 3,
     "metadata": {},
     "output_type": "execute_result"
    }
   ],
   "source": [
    "from sklearn.neural_network import MLPClassifier\n",
    "from sklearn.metrics import accuracy_score, classification_report\n",
    "\n",
    "# Define and train MLP classifier\n",
    "mlp = MLPClassifier(hidden_layer_sizes=(16, 8), activation='relu', solver='adam', max_iter=500, random_state=42)\n",
    "mlp.fit(X_train, y_train)\n",
    "\n",
    "# Predict on test data\n",
    "y_pred = mlp.predict(X_test)\n",
    "\n",
    "# Evaluate model performance\n",
    "accuracy = accuracy_score(y_test, y_pred)\n",
    "report = classification_report(y_test, y_pred, target_names=target_encoder.classes_)\n",
    "\n",
    "accuracy, report\n"
   ]
  },
  {
   "cell_type": "code",
   "execution_count": 5,
   "metadata": {},
   "outputs": [
    {
     "name": "stderr",
     "output_type": "stream",
     "text": [
      "C:\\Users\\HP\\AppData\\Local\\Packages\\PythonSoftwareFoundation.Python.3.11_qbz5n2kfra8p0\\LocalCache\\local-packages\\Python311\\site-packages\\sklearn\\neural_network\\_multilayer_perceptron.py:690: ConvergenceWarning: Stochastic Optimizer: Maximum iterations (1000) reached and the optimization hasn't converged yet.\n",
      "  warnings.warn(\n"
     ]
    },
    {
     "data": {
      "image/png": "[encoded data removed]",
      "text/plain": [
       "<Figure size 640x480 with 1 Axes>"
      ]
     },
     "metadata": {},
     "output_type": "display_data"
    }
   ],
   "source": [
    "import matplotlib.pyplot as plt\n",
    "\n",
    "# Train the MLP again with max_iter=1000 to ensure better convergence\n",
    "mlp = MLPClassifier(hidden_layer_sizes=(16, 8), activation='relu', solver='adam', \n",
    "                    max_iter=1000, random_state=42)\n",
    "\n",
    "mlp.fit(X_train, y_train)\n",
    "\n",
    "# Plot the loss curve\n",
    "plt.plot(mlp.loss_curve_)\n",
    "plt.xlabel('Iterations')\n",
    "plt.ylabel('Loss')\n",
    "plt.title('MLP Classifier Loss Curve')\n",
    "plt.grid()\n",
    "plt.show()\n"
   ]
  }
 ],
 "metadata": {
  "kernelspec": {
   "display_name": "Python 3",
   "language": "python",
   "name": "python3"
  },
  "language_info": {
   "codemirror_mode": {
    "name": "ipython",
    "version": 3
   },
   "file_extension": ".py",
   "mimetype": "text/x-python",
   "name": "python",
   "nbconvert_exporter": "python",
   "pygments_lexer": "ipython3",
   "version": "3.11.9"
  }
 },
 "nbformat": 4,
 "nbformat_minor": 2
}
